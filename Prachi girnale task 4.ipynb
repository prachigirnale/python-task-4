{
 "cells": [
  {
   "cell_type": "markdown",
   "id": "f191de3f-b21a-46e1-abf9-9e7a4adeaf15",
   "metadata": {},
   "source": [
    "# Dictionary "
   ]
  },
  {
   "cell_type": "markdown",
   "id": "a3e4be42-b209-4138-99f3-cf6ee084a816",
   "metadata": {},
   "source": [
    "# Python Dictionary fromkeys() Method"
   ]
  },
  {
   "cell_type": "raw",
   "id": "68c63f38-4017-4c60-95d5-20b5cccfecea",
   "metadata": {},
   "source": [
    "# The fromkeys() method returns a dictionary with the specified keys and the specified value\n",
    "* Syntax :\n",
    "     dict.fromkeys(keys, value)"
   ]
  },
  {
   "cell_type": "code",
   "execution_count": 3,
   "id": "323c1cbd-36ed-421a-b93c-98573773696b",
   "metadata": {},
   "outputs": [
    {
     "name": "stdout",
     "output_type": "stream",
     "text": [
      "{'key1': None, 'key2': None, 'key3': None}\n"
     ]
    }
   ],
   "source": [
    "x = ('key1', 'key2', 'key3')\n",
    "\n",
    "thisdict = dict.fromkeys(x)\n",
    "\n",
    "print(thisdict)"
   ]
  },
  {
   "cell_type": "code",
   "execution_count": null,
   "id": "b7d769ef-1a14-46ec-bc62-03d3ebee38c0",
   "metadata": {},
   "outputs": [],
   "source": []
  },
  {
   "cell_type": "code",
   "execution_count": 5,
   "id": "94ae9b1f-548e-4884-b3f8-802280fc94b5",
   "metadata": {},
   "outputs": [
    {
     "name": "stdout",
     "output_type": "stream",
     "text": [
      "{'key1': 0, 'key2': 0, 'key3': 0}\n"
     ]
    }
   ],
   "source": [
    "x = ('key1', 'key2', 'key3')\n",
    "y = 0\n",
    "\n",
    "thisdict = dict.fromkeys(x, y)\n",
    "\n",
    "print(thisdict)"
   ]
  },
  {
   "cell_type": "code",
   "execution_count": null,
   "id": "87ab7b26-5aa5-4d9a-97aa-870b044b89e5",
   "metadata": {},
   "outputs": [],
   "source": []
  },
  {
   "cell_type": "markdown",
   "id": "05d7eb73-dc82-4126-89c4-5a16f5e8c535",
   "metadata": {},
   "source": [
    "# Python Dictionary get() Method"
   ]
  },
  {
   "cell_type": "raw",
   "id": "a8fea1c4-30eb-4319-94f4-b6bb50a335c6",
   "metadata": {},
   "source": [
    "* The get() method returns the value of the item with the specified key\n",
    "* Syntax\n",
    "dictionary.get(keyname, value)\n",
    "\n"
   ]
  },
  {
   "cell_type": "code",
   "execution_count": 8,
   "id": "823d6619-1415-4bb6-9ce7-235aaffc10cd",
   "metadata": {},
   "outputs": [
    {
     "name": "stdout",
     "output_type": "stream",
     "text": [
      "15000\n"
     ]
    }
   ],
   "source": [
    "car = {\n",
    "  \"brand\": \"Ford\",\n",
    "  \"model\": \"Mustang\",\n",
    "  \"year\": 1964\n",
    "}\n",
    "\n",
    "x = car.get(\"price\", 15000)\n",
    "\n",
    "print(x)"
   ]
  },
  {
   "cell_type": "code",
   "execution_count": 10,
   "id": "7918d78e-02fb-4b1d-b968-6622c6ef5c12",
   "metadata": {},
   "outputs": [
    {
     "name": "stdout",
     "output_type": "stream",
     "text": [
      "Mustang\n"
     ]
    }
   ],
   "source": [
    "car = {\n",
    "  \"brand\": \"Ford\",\n",
    "  \"model\": \"Mustang\",\n",
    "  \"year\": 1964\n",
    "}\n",
    "\n",
    "x = car.get(\"model\")\n",
    "\n",
    "print(x)"
   ]
  },
  {
   "cell_type": "code",
   "execution_count": null,
   "id": "0eb23a4c-f8b4-48ea-9814-117c428f4adf",
   "metadata": {},
   "outputs": [],
   "source": []
  },
  {
   "cell_type": "markdown",
   "id": "900f8367-a7dc-41dd-8efc-7cf93193b612",
   "metadata": {},
   "source": [
    "# Python Dictionary items() Method\r\n",
    "\r\n"
   ]
  },
  {
   "cell_type": "raw",
   "id": "f9c4f63d-8f2a-4c5c-9eee-4e2cf31dbca5",
   "metadata": {},
   "source": [
    "* The items() method returns a view object. The view object contains the key-value pairs of the dictionary, as tuples in a list.\n",
    "* Syntax\n",
    "dictionary.items()"
   ]
  },
  {
   "cell_type": "code",
   "execution_count": 13,
   "id": "5624e39d-8be4-45f6-a652-ada6f92f7229",
   "metadata": {},
   "outputs": [
    {
     "name": "stdout",
     "output_type": "stream",
     "text": [
      "dict_items([('brand', 'Ford'), ('model', 'Mustang'), ('year', 1964)])\n"
     ]
    }
   ],
   "source": [
    "car = {\n",
    "  \"brand\": \"Ford\",\n",
    "  \"model\": \"Mustang\",\n",
    "  \"year\": 1964\n",
    "}\n",
    "\n",
    "x = car.items()\n",
    "\n",
    "print(x)"
   ]
  },
  {
   "cell_type": "code",
   "execution_count": 15,
   "id": "9dccbf59-14c3-4986-be9d-6b73c0b9a114",
   "metadata": {},
   "outputs": [
    {
     "name": "stdout",
     "output_type": "stream",
     "text": [
      "dict_items([('brand', 'Ford'), ('model', 'Mustang'), ('year', 2018)])\n"
     ]
    }
   ],
   "source": [
    "car = {\n",
    "  \"brand\": \"Ford\",\n",
    "  \"model\": \"Mustang\",\n",
    "  \"year\": 1964\n",
    "}\n",
    "\n",
    "x = car.items()\n",
    "\n",
    "car[\"year\"] = 2018\n",
    "\n",
    "print(x)"
   ]
  },
  {
   "cell_type": "code",
   "execution_count": null,
   "id": "ecc6a286-804f-45a5-810d-628ed341f8ec",
   "metadata": {},
   "outputs": [],
   "source": []
  },
  {
   "cell_type": "markdown",
   "id": "1eeb3c24-28fa-4fd8-95b5-c82908961852",
   "metadata": {},
   "source": [
    "# Python Dictionary keys() Method\r\n",
    "\r\n"
   ]
  },
  {
   "cell_type": "raw",
   "id": "5e710175-221e-4676-8c10-4839eeb3e564",
   "metadata": {},
   "source": [
    "* The keys() method returns a view object. The view object contains the keys of the dictionary, as a list.\n",
    "* Syntax\n",
    "dictionary.keys()"
   ]
  },
  {
   "cell_type": "code",
   "execution_count": 18,
   "id": "46371e4f-86fe-4d52-8f07-78b7e8a00e99",
   "metadata": {},
   "outputs": [
    {
     "name": "stdout",
     "output_type": "stream",
     "text": [
      "dict_keys(['brand', 'model', 'year'])\n"
     ]
    }
   ],
   "source": [
    "car = {\n",
    "  \"brand\": \"Ford\",\n",
    "  \"model\": \"Mustang\",\n",
    "  \"year\": 1964\n",
    "}\n",
    "\n",
    "x = car.keys()\n",
    "\n",
    "print(x)"
   ]
  },
  {
   "cell_type": "code",
   "execution_count": 20,
   "id": "fed306e3-a45c-4bbe-91e2-9d46c2439846",
   "metadata": {},
   "outputs": [
    {
     "name": "stdout",
     "output_type": "stream",
     "text": [
      "dict_keys(['brand', 'model', 'year', 'color'])\n"
     ]
    }
   ],
   "source": [
    "car = {\n",
    "  \"brand\": \"Ford\",\n",
    "  \"model\": \"Mustang\",\n",
    "  \"year\": 1964\n",
    "}\n",
    "\n",
    "x = car.keys()\n",
    "\n",
    "car[\"color\"] = \"white\"\n",
    "\n",
    "print(x)"
   ]
  },
  {
   "cell_type": "code",
   "execution_count": null,
   "id": "752021a3-8b6a-48d6-a353-92ee5875dcae",
   "metadata": {},
   "outputs": [],
   "source": []
  },
  {
   "cell_type": "markdown",
   "id": "aa5bbb2e-10b8-4d44-881f-7d0028754d80",
   "metadata": {},
   "source": [
    "# Python Dictionary pop() Method"
   ]
  },
  {
   "cell_type": "raw",
   "id": "8d8abee2-5f96-42e1-b836-9a2b8a2ef446",
   "metadata": {},
   "source": [
    "* The pop() method removes the specified item from the dictionary.\n",
    "* Syntax\n",
    "dictionary.pop(keyname, defaultvalue)"
   ]
  },
  {
   "cell_type": "code",
   "execution_count": 23,
   "id": "6042bb24-f9e4-4cdf-9a9a-78bb055da79a",
   "metadata": {},
   "outputs": [
    {
     "name": "stdout",
     "output_type": "stream",
     "text": [
      "{'brand': 'Ford', 'year': 1964}\n"
     ]
    }
   ],
   "source": [
    "car = {\n",
    "  \"brand\": \"Ford\",\n",
    "  \"model\": \"Mustang\",\n",
    "  \"year\": 1964\n",
    "}\n",
    "\n",
    "car.pop(\"model\")\n",
    "\n",
    "print(car)"
   ]
  },
  {
   "cell_type": "code",
   "execution_count": 25,
   "id": "b577fe7c-b1c3-427b-99f7-53ebdfa4e274",
   "metadata": {},
   "outputs": [
    {
     "name": "stdout",
     "output_type": "stream",
     "text": [
      "Mustang\n"
     ]
    }
   ],
   "source": [
    "car = {\n",
    "  \"brand\": \"Ford\",\n",
    "  \"model\": \"Mustang\",\n",
    "  \"year\": 1964\n",
    "}\n",
    "\n",
    "x = car.pop(\"model\")\n",
    "\n",
    "print(x)"
   ]
  },
  {
   "cell_type": "markdown",
   "id": "fd832125-00fd-44f7-ad14-3c9c2deb1de1",
   "metadata": {},
   "source": [
    "# Python Dictionary popitem() Method\r\n",
    "\r\n"
   ]
  },
  {
   "cell_type": "raw",
   "id": "e93879ca-4425-4d69-8483-058276cff473",
   "metadata": {},
   "source": [
    "* The popitem() method removes the item that was last inserted into the dictionary. In versions before 3.7, the popitem() method removes a random item.\n",
    "* Syntax\n",
    "dictionary.popitem()"
   ]
  },
  {
   "cell_type": "code",
   "execution_count": 28,
   "id": "9e74cbf3-6908-4f43-bf29-35f606897d23",
   "metadata": {},
   "outputs": [
    {
     "name": "stdout",
     "output_type": "stream",
     "text": [
      "{'brand': 'Ford', 'model': 'Mustang'}\n"
     ]
    }
   ],
   "source": [
    "car = {\n",
    "  \"brand\": \"Ford\",\n",
    "  \"model\": \"Mustang\",\n",
    "  \"year\": 1964\n",
    "}\n",
    "\n",
    "car.popitem()\n",
    "\n",
    "print(car)"
   ]
  },
  {
   "cell_type": "code",
   "execution_count": 30,
   "id": "344dfc23-b377-4d05-9333-883e3055c750",
   "metadata": {},
   "outputs": [
    {
     "name": "stdout",
     "output_type": "stream",
     "text": [
      "('year', 1964)\n"
     ]
    }
   ],
   "source": [
    "car = {\n",
    "  \"brand\": \"Ford\",\n",
    "  \"model\": \"Mustang\",\n",
    "  \"year\": 1964\n",
    "}\n",
    "\n",
    "x = car.popitem()\n",
    "\n",
    "print(x)"
   ]
  },
  {
   "cell_type": "code",
   "execution_count": null,
   "id": "ea1d79f4-25be-4c91-b8fa-9921b6089e7a",
   "metadata": {},
   "outputs": [],
   "source": []
  },
  {
   "cell_type": "markdown",
   "id": "823a1532-b1ff-46bf-8871-b7d13b3f9b76",
   "metadata": {},
   "source": [
    "# Python Dictionary setdefault() Method"
   ]
  },
  {
   "cell_type": "raw",
   "id": "d6f54911-1369-4af9-8a6e-f122faa2d7f2",
   "metadata": {},
   "source": [
    "* The setdefault() method returns the value of the item with the specified key.\n",
    "* Syntax\n",
    "dictionary.setdefault(keyname, value)"
   ]
  },
  {
   "cell_type": "code",
   "execution_count": 33,
   "id": "d10502d4-741f-4c69-8eb9-8d2a66d2acd0",
   "metadata": {},
   "outputs": [
    {
     "name": "stdout",
     "output_type": "stream",
     "text": [
      "Mustang\n"
     ]
    }
   ],
   "source": [
    "car = {\n",
    "  \"brand\": \"Ford\",\n",
    "  \"model\": \"Mustang\",\n",
    "  \"year\": 1964\n",
    "}\n",
    "\n",
    "x = car.setdefault(\"model\", \"Bronco\")\n",
    "\n",
    "print(x)\n"
   ]
  },
  {
   "cell_type": "code",
   "execution_count": 35,
   "id": "8e0d78b4-baf3-4e9c-8f78-292500d5dc8d",
   "metadata": {},
   "outputs": [
    {
     "name": "stdout",
     "output_type": "stream",
     "text": [
      "white\n"
     ]
    }
   ],
   "source": [
    "car = {\n",
    "  \"brand\": \"Ford\",\n",
    "  \"model\": \"Mustang\",\n",
    "  \"year\": 1964\n",
    "}\n",
    "\n",
    "x = car.setdefault(\"color\", \"white\")\n",
    "\n",
    "print(x)\n",
    "\n"
   ]
  },
  {
   "cell_type": "code",
   "execution_count": null,
   "id": "70a944bb-8aeb-4585-bdb1-4f2ddcabefa1",
   "metadata": {},
   "outputs": [],
   "source": []
  },
  {
   "cell_type": "markdown",
   "id": "932dba5f-61b9-48b8-8794-741fae2876a2",
   "metadata": {},
   "source": [
    "# Python Dictionary update() Method\r\n",
    "\r\n"
   ]
  },
  {
   "cell_type": "raw",
   "id": "585017b1-f38b-46a8-9b10-e6a64a125c33",
   "metadata": {},
   "source": [
    "* The update() method inserts the specified items to the dictionary.\n",
    "* Syntax\n",
    "dictionary.update(iterable)"
   ]
  },
  {
   "cell_type": "code",
   "execution_count": 2,
   "id": "1bbc2ff0-95cc-4913-8c94-2dc462780c37",
   "metadata": {},
   "outputs": [
    {
     "name": "stdout",
     "output_type": "stream",
     "text": [
      "{'brand': 'Ford', 'model': 'Mustang', 'year': 1964, 'color': 'White'}\n"
     ]
    }
   ],
   "source": [
    "car = {\n",
    "  \"brand\": \"Ford\",\n",
    "  \"model\": \"Mustang\",\n",
    "  \"year\": 1964\n",
    "}\n",
    "\n",
    "car.update({\"color\": \"White\"})\n",
    "\n",
    "print(car)\n"
   ]
  },
  {
   "cell_type": "markdown",
   "id": "aa8fd10d-dd21-4fbb-a99c-8f5a18a339f7",
   "metadata": {},
   "source": []
  },
  {
   "cell_type": "markdown",
   "id": "b5178663-f6dd-4c8e-af5d-744e29c57d10",
   "metadata": {},
   "source": [
    "# Python Dictionary values() Method"
   ]
  },
  {
   "cell_type": "raw",
   "id": "c87d34c3-76f0-470e-8ef4-18ace8a83b75",
   "metadata": {},
   "source": [
    "* The values() method returns a view object. The view object contains the values of the dictionary, as a list.\n",
    "* Syntax\n",
    "dictionary.values()"
   ]
  },
  {
   "cell_type": "code",
   "execution_count": 5,
   "id": "5bbe7564-d804-4771-9846-18a8930a1a4c",
   "metadata": {},
   "outputs": [
    {
     "name": "stdout",
     "output_type": "stream",
     "text": [
      "dict_values(['Ford', 'Mustang', 1964])\n"
     ]
    }
   ],
   "source": [
    "car = {\n",
    "  \"brand\": \"Ford\",\n",
    "  \"model\": \"Mustang\",\n",
    "  \"year\": 1964\n",
    "}\n",
    "\n",
    "x = car.values()\n",
    "\n",
    "print(x)\n"
   ]
  },
  {
   "cell_type": "code",
   "execution_count": 7,
   "id": "05d10134-1a7d-4b5c-9d5e-c614a59f897b",
   "metadata": {},
   "outputs": [
    {
     "name": "stdout",
     "output_type": "stream",
     "text": [
      "dict_values(['Ford', 'Mustang', 2018])\n"
     ]
    }
   ],
   "source": [
    "car = {\n",
    "  \"brand\": \"Ford\",\n",
    "  \"model\": \"Mustang\",\n",
    "  \"year\": 1964\n",
    "}\n",
    "\n",
    "x = car.values()\n",
    "\n",
    "car[\"year\"] = 2018\n",
    "\n",
    "print(x)"
   ]
  },
  {
   "cell_type": "code",
   "execution_count": null,
   "id": "f6d3091b-e49f-4bb0-8b3f-70f2c9c3c1dc",
   "metadata": {},
   "outputs": [],
   "source": []
  },
  {
   "cell_type": "markdown",
   "id": "39c49fcc-5b56-4c5e-97cd-82176b5e3168",
   "metadata": {},
   "source": [
    "# if else fuction"
   ]
  },
  {
   "cell_type": "code",
   "execution_count": 39,
   "id": "77b36ace-6d93-4b85-879f-b50011d456ab",
   "metadata": {},
   "outputs": [
    {
     "name": "stdout",
     "output_type": "stream",
     "text": [
      "The number is positive.\n"
     ]
    }
   ],
   "source": [
    "number = 5\n",
    "\n",
    "if number > 0:\n",
    "    print(\"The number is positive.\")\n",
    "elif number < 0:\n",
    "    print(\"The number is negative.\")\n",
    "else:\n",
    "    print(\"The number is zero.\")"
   ]
  },
  {
   "cell_type": "code",
   "execution_count": 57,
   "id": "79cb5f73-1c36-424d-8f49-c50e904a1802",
   "metadata": {},
   "outputs": [
    {
     "name": "stdout",
     "output_type": "stream",
     "text": [
      "You are eligible to vote.\n"
     ]
    }
   ],
   "source": [
    "age = 20\n",
    "\n",
    "if age >= 18:\n",
    "    print(\"You are eligible to vote.\")\n",
    "else:\n",
    "    print(\"You are not eligible to vote.\")"
   ]
  },
  {
   "cell_type": "code",
   "execution_count": 59,
   "id": "a926ef2e-fe29-4e6c-ade3-e9d8ff093d3c",
   "metadata": {},
   "outputs": [
    {
     "name": "stdout",
     "output_type": "stream",
     "text": [
      "Negative\n"
     ]
    }
   ],
   "source": [
    "def check_number(number):\n",
    "    if number > 0:\n",
    "        return \"Positive\"\n",
    "    elif number < 0:\n",
    "        return \"Negative\"\n",
    "    else:\n",
    "        return \"Zero\"\n",
    "\n",
    "print(check_number(-3)) "
   ]
  },
  {
   "cell_type": "code",
   "execution_count": 61,
   "id": "6a3b4d04-b4f6-4154-bed0-f7344c41b5d8",
   "metadata": {},
   "outputs": [
    {
     "name": "stdout",
     "output_type": "stream",
     "text": [
      "Positive\n"
     ]
    }
   ],
   "source": [
    "def check_number(number):\n",
    "    if number > 0:\n",
    "        return \"Positive\"\n",
    "    elif number < 0:\n",
    "        return \"Negative\"\n",
    "    else:\n",
    "        return \"Zero\"\n",
    "\n",
    "print(check_number(3)) "
   ]
  },
  {
   "cell_type": "code",
   "execution_count": 63,
   "id": "dd60ee02-f661-475b-891b-12f0f9444c91",
   "metadata": {},
   "outputs": [
    {
     "name": "stdout",
     "output_type": "stream",
     "text": [
      "a is less than b\n"
     ]
    }
   ],
   "source": [
    "def compare_numbers(a, b):\n",
    "    if a > b:\n",
    "        return \"a is greater than b\"\n",
    "    elif a < b:\n",
    "        return \"a is less than b\"\n",
    "    else:\n",
    "        return \"a is equal to b\"\n",
    "\n",
    "print(compare_numbers(10, 20))"
   ]
  },
  {
   "cell_type": "code",
   "execution_count": 65,
   "id": "313782d5-264d-4b1b-93ee-b996b19ee162",
   "metadata": {},
   "outputs": [
    {
     "name": "stdout",
     "output_type": "stream",
     "text": [
      "a is greater than b\n"
     ]
    }
   ],
   "source": [
    "def compare_numbers(a, b):\n",
    "    if a > b:\n",
    "        return \"a is greater than b\"\n",
    "    elif a < b:\n",
    "        return \"a is less than b\"\n",
    "    else:\n",
    "        return \"a is equal to b\"\n",
    "\n",
    "print(compare_numbers(60, 20))"
   ]
  },
  {
   "cell_type": "code",
   "execution_count": 67,
   "id": "c598bb1d-5b17-443e-9e31-ad7a899ea14f",
   "metadata": {},
   "outputs": [
    {
     "name": "stdout",
     "output_type": "stream",
     "text": [
      "In range\n"
     ]
    }
   ],
   "source": [
    "def is_in_range(x):\n",
    "    if x >= 10 and x <= 20:\n",
    "        return \"In range\"\n",
    "    else:\n",
    "        return \"Out of range\"\n",
    "\n",
    "print(is_in_range(15))"
   ]
  },
  {
   "cell_type": "code",
   "execution_count": 69,
   "id": "56ad448c-e75c-47c9-8903-d4dd1299d2cf",
   "metadata": {},
   "outputs": [
    {
     "name": "stdout",
     "output_type": "stream",
     "text": [
      "List is empty\n"
     ]
    }
   ],
   "source": [
    "def is_list_empty(lst):\n",
    "    if not lst:\n",
    "        return \"List is empty\"\n",
    "    else:\n",
    "        return \"List is not empty\"\n",
    "\n",
    "print(is_list_empty([]))"
   ]
  },
  {
   "cell_type": "code",
   "execution_count": 75,
   "id": "8c2b7586-77a8-46a8-8200-f3e501d93697",
   "metadata": {},
   "outputs": [
    {
     "name": "stdout",
     "output_type": "stream",
     "text": [
      "List is not empty\n"
     ]
    }
   ],
   "source": [
    "def is_list_empty(lst):\n",
    "    if not lst:\n",
    "        return \"List is empty\"\n",
    "    else:\n",
    "        return \"List is not empty\"\n",
    "\n",
    "print(is_list_empty(7))\n"
   ]
  },
  {
   "cell_type": "code",
   "execution_count": 77,
   "id": "453083d2-26fb-4aef-bc40-a1a1b7a5b204",
   "metadata": {},
   "outputs": [
    {
     "name": "stdout",
     "output_type": "stream",
     "text": [
      "a is greater than b.\n"
     ]
    }
   ],
   "source": [
    "a = 5\n",
    "b = 3\n",
    "\n",
    "if a > b:\n",
    "    print(\"a is greater than b.\")\n",
    "else:\n",
    "    print(\"a is not greater than b.\")"
   ]
  },
  {
   "cell_type": "code",
   "execution_count": 79,
   "id": "10dde76c-cee1-42e2-8855-5f557ff9475a",
   "metadata": {},
   "outputs": [
    {
     "name": "stdout",
     "output_type": "stream",
     "text": [
      "The string is empty.\n"
     ]
    }
   ],
   "source": [
    "text = \"\"\n",
    "\n",
    "if text == \"\":\n",
    "    print(\"The string is empty.\")\n",
    "else:\n",
    "    print(\"The string is not empty.\")"
   ]
  },
  {
   "cell_type": "code",
   "execution_count": null,
   "id": "31199b7f-1156-4332-a9bd-7f8cb4f70c2a",
   "metadata": {},
   "outputs": [],
   "source": [
    "text = \"772ghbrtext = \"\"\n",
    "\n",
    "if text == \"\":\n",
    "    print(\"The string is empty.\")\n",
    "else:\n",
    "    print(\"The string is not empty.\")\"\n"
   ]
  }
 ],
 "metadata": {
  "kernelspec": {
   "display_name": "Python 3 (ipykernel)",
   "language": "python",
   "name": "python3"
  },
  "language_info": {
   "codemirror_mode": {
    "name": "ipython",
    "version": 3
   },
   "file_extension": ".py",
   "mimetype": "text/x-python",
   "name": "python",
   "nbconvert_exporter": "python",
   "pygments_lexer": "ipython3",
   "version": "3.12.4"
  }
 },
 "nbformat": 4,
 "nbformat_minor": 5
}
